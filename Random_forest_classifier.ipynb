{
 "cells": [
  {
   "cell_type": "markdown",
   "metadata": {},
   "source": [
    "# Customer Churn Prediction"
   ]
  },
  {
   "cell_type": "markdown",
   "metadata": {},
   "source": [
    "## Random Forest Classifier implimentation"
   ]
  },
  {
   "cell_type": "markdown",
   "metadata": {},
   "source": [
    "#### Loading Data"
   ]
  },
  {
   "cell_type": "code",
   "execution_count": 3,
   "metadata": {},
   "outputs": [
    {
     "name": "stderr",
     "output_type": "stream",
     "text": [
      "Using TensorFlow backend.\n"
     ]
    }
   ],
   "source": [
    "import pandas as pd\n",
    "import numpy as np\n",
    "from scipy.stats import randint as sp_randint\n",
    "from sklearn.model_selection import RandomizedSearchCV\n",
    "from sklearn.ensemble import RandomForestClassifier\n",
    "from sklearn.pipeline import Pipeline\n",
    "from sklearn.preprocessing import LabelEncoder\n",
    "import pickle as pickle \n",
    "import sys\n",
    "import os\n",
    "from sklearn.utils import resample\n",
    "from imblearn.over_sampling import SMOTE\n",
    "from math import sin, cos, sqrt, atan2, radians\n",
    "from sklearn.model_selection import train_test_split\n",
    "from sklearn import preprocessing\n",
    "from sklearn.metrics import confusion_matrix\n",
    "from sklearn import metrics"
   ]
  },
  {
   "cell_type": "code",
   "execution_count": 4,
   "metadata": {},
   "outputs": [],
   "source": [
    "data_= pd.read_csv('data/customer_preprocessed_data.csv')\n"
   ]
  },
  {
   "cell_type": "code",
   "execution_count": 6,
   "metadata": {},
   "outputs": [],
   "source": [
    "data = data_[['passengerid', 'trip_total', 'delay_total', 'delay_avg',\n",
    "       'distance_total', 'distance_avg', 'fare_total', 'fare_avg',\n",
    "       'discount_total', 'discount_avg', 'preffered_taximodelid',\n",
    "       'trip_fare_total', 'trip_fare_avg',\n",
    "       'preffered_payment_method', 'profile_engaged_period', 'pre_booked',\n",
    "       'churn']]"
   ]
  },
  {
   "cell_type": "code",
   "execution_count": 7,
   "metadata": {},
   "outputs": [
    {
     "data": {
      "text/html": [
       "<div>\n",
       "<style scoped>\n",
       "    .dataframe tbody tr th:only-of-type {\n",
       "        vertical-align: middle;\n",
       "    }\n",
       "\n",
       "    .dataframe tbody tr th {\n",
       "        vertical-align: top;\n",
       "    }\n",
       "\n",
       "    .dataframe thead th {\n",
       "        text-align: right;\n",
       "    }\n",
       "</style>\n",
       "<table border=\"1\" class=\"dataframe\">\n",
       "  <thead>\n",
       "    <tr style=\"text-align: right;\">\n",
       "      <th></th>\n",
       "      <th>passengerid</th>\n",
       "      <th>trip_total</th>\n",
       "      <th>delay_total</th>\n",
       "      <th>delay_avg</th>\n",
       "      <th>distance_total</th>\n",
       "      <th>distance_avg</th>\n",
       "      <th>fare_total</th>\n",
       "      <th>fare_avg</th>\n",
       "      <th>discount_total</th>\n",
       "      <th>discount_avg</th>\n",
       "      <th>preffered_taximodelid</th>\n",
       "      <th>trip_fare_total</th>\n",
       "      <th>trip_fare_avg</th>\n",
       "      <th>preffered_payment_method</th>\n",
       "      <th>profile_engaged_period</th>\n",
       "    </tr>\n",
       "  </thead>\n",
       "  <tbody>\n",
       "    <tr>\n",
       "      <th>passengerid</th>\n",
       "      <td>1.000000</td>\n",
       "      <td>0.000152</td>\n",
       "      <td>-0.000071</td>\n",
       "      <td>-0.000285</td>\n",
       "      <td>-0.000163</td>\n",
       "      <td>-0.000648</td>\n",
       "      <td>0.002237</td>\n",
       "      <td>-0.001109</td>\n",
       "      <td>-0.001108</td>\n",
       "      <td>-0.001114</td>\n",
       "      <td>0.000184</td>\n",
       "      <td>0.002532</td>\n",
       "      <td>-0.001026</td>\n",
       "      <td>0.001388</td>\n",
       "      <td>-0.003446</td>\n",
       "    </tr>\n",
       "    <tr>\n",
       "      <th>trip_total</th>\n",
       "      <td>0.000152</td>\n",
       "      <td>1.000000</td>\n",
       "      <td>0.659390</td>\n",
       "      <td>-0.014032</td>\n",
       "      <td>0.674052</td>\n",
       "      <td>-0.024680</td>\n",
       "      <td>0.011140</td>\n",
       "      <td>0.001301</td>\n",
       "      <td>0.003418</td>\n",
       "      <td>0.002085</td>\n",
       "      <td>-0.072747</td>\n",
       "      <td>0.010655</td>\n",
       "      <td>0.001141</td>\n",
       "      <td>0.106957</td>\n",
       "      <td>0.107615</td>\n",
       "    </tr>\n",
       "    <tr>\n",
       "      <th>delay_total</th>\n",
       "      <td>-0.000071</td>\n",
       "      <td>0.659390</td>\n",
       "      <td>1.000000</td>\n",
       "      <td>0.326255</td>\n",
       "      <td>0.500756</td>\n",
       "      <td>-0.006194</td>\n",
       "      <td>0.008769</td>\n",
       "      <td>0.001119</td>\n",
       "      <td>0.001981</td>\n",
       "      <td>0.000914</td>\n",
       "      <td>-0.021032</td>\n",
       "      <td>0.008543</td>\n",
       "      <td>0.001050</td>\n",
       "      <td>0.071620</td>\n",
       "      <td>0.071952</td>\n",
       "    </tr>\n",
       "    <tr>\n",
       "      <th>delay_avg</th>\n",
       "      <td>-0.000285</td>\n",
       "      <td>-0.014032</td>\n",
       "      <td>0.326255</td>\n",
       "      <td>1.000000</td>\n",
       "      <td>0.005507</td>\n",
       "      <td>0.018111</td>\n",
       "      <td>0.000007</td>\n",
       "      <td>-0.000039</td>\n",
       "      <td>-0.000183</td>\n",
       "      <td>-0.000128</td>\n",
       "      <td>0.061060</td>\n",
       "      <td>0.000047</td>\n",
       "      <td>-0.000029</td>\n",
       "      <td>-0.003476</td>\n",
       "      <td>-0.005572</td>\n",
       "    </tr>\n",
       "    <tr>\n",
       "      <th>distance_total</th>\n",
       "      <td>-0.000163</td>\n",
       "      <td>0.674052</td>\n",
       "      <td>0.500756</td>\n",
       "      <td>0.005507</td>\n",
       "      <td>1.000000</td>\n",
       "      <td>0.505399</td>\n",
       "      <td>0.011706</td>\n",
       "      <td>0.003179</td>\n",
       "      <td>0.009950</td>\n",
       "      <td>0.008334</td>\n",
       "      <td>0.010037</td>\n",
       "      <td>0.009805</td>\n",
       "      <td>0.002535</td>\n",
       "      <td>0.075225</td>\n",
       "      <td>0.076152</td>\n",
       "    </tr>\n",
       "    <tr>\n",
       "      <th>distance_avg</th>\n",
       "      <td>-0.000648</td>\n",
       "      <td>-0.024680</td>\n",
       "      <td>-0.006194</td>\n",
       "      <td>0.018111</td>\n",
       "      <td>0.505399</td>\n",
       "      <td>1.000000</td>\n",
       "      <td>0.000893</td>\n",
       "      <td>0.002712</td>\n",
       "      <td>0.001245</td>\n",
       "      <td>0.001747</td>\n",
       "      <td>0.079570</td>\n",
       "      <td>0.000641</td>\n",
       "      <td>0.002583</td>\n",
       "      <td>-0.001005</td>\n",
       "      <td>-0.007688</td>\n",
       "    </tr>\n",
       "    <tr>\n",
       "      <th>fare_total</th>\n",
       "      <td>0.002237</td>\n",
       "      <td>0.011140</td>\n",
       "      <td>0.008769</td>\n",
       "      <td>0.000007</td>\n",
       "      <td>0.011706</td>\n",
       "      <td>0.000893</td>\n",
       "      <td>1.000000</td>\n",
       "      <td>0.720850</td>\n",
       "      <td>0.213926</td>\n",
       "      <td>0.213915</td>\n",
       "      <td>0.001229</td>\n",
       "      <td>0.976848</td>\n",
       "      <td>0.706294</td>\n",
       "      <td>0.002516</td>\n",
       "      <td>0.000978</td>\n",
       "    </tr>\n",
       "    <tr>\n",
       "      <th>fare_avg</th>\n",
       "      <td>-0.001109</td>\n",
       "      <td>0.001301</td>\n",
       "      <td>0.001119</td>\n",
       "      <td>-0.000039</td>\n",
       "      <td>0.003179</td>\n",
       "      <td>0.002712</td>\n",
       "      <td>0.720850</td>\n",
       "      <td>1.000000</td>\n",
       "      <td>0.078123</td>\n",
       "      <td>0.078122</td>\n",
       "      <td>-0.000360</td>\n",
       "      <td>0.720824</td>\n",
       "      <td>0.996943</td>\n",
       "      <td>0.000573</td>\n",
       "      <td>0.001425</td>\n",
       "    </tr>\n",
       "    <tr>\n",
       "      <th>discount_total</th>\n",
       "      <td>-0.001108</td>\n",
       "      <td>0.003418</td>\n",
       "      <td>0.001981</td>\n",
       "      <td>-0.000183</td>\n",
       "      <td>0.009950</td>\n",
       "      <td>0.001245</td>\n",
       "      <td>0.213926</td>\n",
       "      <td>0.078123</td>\n",
       "      <td>1.000000</td>\n",
       "      <td>0.999976</td>\n",
       "      <td>0.000629</td>\n",
       "      <td>-0.000011</td>\n",
       "      <td>-0.000011</td>\n",
       "      <td>-0.000301</td>\n",
       "      <td>-0.001018</td>\n",
       "    </tr>\n",
       "    <tr>\n",
       "      <th>discount_avg</th>\n",
       "      <td>-0.001114</td>\n",
       "      <td>0.002085</td>\n",
       "      <td>0.000914</td>\n",
       "      <td>-0.000128</td>\n",
       "      <td>0.008334</td>\n",
       "      <td>0.001747</td>\n",
       "      <td>0.213915</td>\n",
       "      <td>0.078122</td>\n",
       "      <td>0.999976</td>\n",
       "      <td>1.000000</td>\n",
       "      <td>0.001062</td>\n",
       "      <td>-0.000017</td>\n",
       "      <td>-0.000014</td>\n",
       "      <td>-0.000402</td>\n",
       "      <td>-0.001088</td>\n",
       "    </tr>\n",
       "    <tr>\n",
       "      <th>preffered_taximodelid</th>\n",
       "      <td>0.000184</td>\n",
       "      <td>-0.072747</td>\n",
       "      <td>-0.021032</td>\n",
       "      <td>0.061060</td>\n",
       "      <td>0.010037</td>\n",
       "      <td>0.079570</td>\n",
       "      <td>0.001229</td>\n",
       "      <td>-0.000360</td>\n",
       "      <td>0.000629</td>\n",
       "      <td>0.001062</td>\n",
       "      <td>1.000000</td>\n",
       "      <td>0.001121</td>\n",
       "      <td>-0.000444</td>\n",
       "      <td>0.006603</td>\n",
       "      <td>-0.032284</td>\n",
       "    </tr>\n",
       "    <tr>\n",
       "      <th>trip_fare_total</th>\n",
       "      <td>0.002532</td>\n",
       "      <td>0.010655</td>\n",
       "      <td>0.008543</td>\n",
       "      <td>0.000047</td>\n",
       "      <td>0.009805</td>\n",
       "      <td>0.000641</td>\n",
       "      <td>0.976848</td>\n",
       "      <td>0.720824</td>\n",
       "      <td>-0.000011</td>\n",
       "      <td>-0.000017</td>\n",
       "      <td>0.001121</td>\n",
       "      <td>1.000000</td>\n",
       "      <td>0.723035</td>\n",
       "      <td>0.002641</td>\n",
       "      <td>0.001224</td>\n",
       "    </tr>\n",
       "    <tr>\n",
       "      <th>trip_fare_avg</th>\n",
       "      <td>-0.001026</td>\n",
       "      <td>0.001141</td>\n",
       "      <td>0.001050</td>\n",
       "      <td>-0.000029</td>\n",
       "      <td>0.002535</td>\n",
       "      <td>0.002583</td>\n",
       "      <td>0.706294</td>\n",
       "      <td>0.996943</td>\n",
       "      <td>-0.000011</td>\n",
       "      <td>-0.000014</td>\n",
       "      <td>-0.000444</td>\n",
       "      <td>0.723035</td>\n",
       "      <td>1.000000</td>\n",
       "      <td>0.000606</td>\n",
       "      <td>0.001515</td>\n",
       "    </tr>\n",
       "    <tr>\n",
       "      <th>preffered_payment_method</th>\n",
       "      <td>0.001388</td>\n",
       "      <td>0.106957</td>\n",
       "      <td>0.071620</td>\n",
       "      <td>-0.003476</td>\n",
       "      <td>0.075225</td>\n",
       "      <td>-0.001005</td>\n",
       "      <td>0.002516</td>\n",
       "      <td>0.000573</td>\n",
       "      <td>-0.000301</td>\n",
       "      <td>-0.000402</td>\n",
       "      <td>0.006603</td>\n",
       "      <td>0.002641</td>\n",
       "      <td>0.000606</td>\n",
       "      <td>1.000000</td>\n",
       "      <td>0.094147</td>\n",
       "    </tr>\n",
       "    <tr>\n",
       "      <th>profile_engaged_period</th>\n",
       "      <td>-0.003446</td>\n",
       "      <td>0.107615</td>\n",
       "      <td>0.071952</td>\n",
       "      <td>-0.005572</td>\n",
       "      <td>0.076152</td>\n",
       "      <td>-0.007688</td>\n",
       "      <td>0.000978</td>\n",
       "      <td>0.001425</td>\n",
       "      <td>-0.001018</td>\n",
       "      <td>-0.001088</td>\n",
       "      <td>-0.032284</td>\n",
       "      <td>0.001224</td>\n",
       "      <td>0.001515</td>\n",
       "      <td>0.094147</td>\n",
       "      <td>1.000000</td>\n",
       "    </tr>\n",
       "  </tbody>\n",
       "</table>\n",
       "</div>"
      ],
      "text/plain": [
       "                          passengerid  trip_total  delay_total  delay_avg  \\\n",
       "passengerid                  1.000000    0.000152    -0.000071  -0.000285   \n",
       "trip_total                   0.000152    1.000000     0.659390  -0.014032   \n",
       "delay_total                 -0.000071    0.659390     1.000000   0.326255   \n",
       "delay_avg                   -0.000285   -0.014032     0.326255   1.000000   \n",
       "distance_total              -0.000163    0.674052     0.500756   0.005507   \n",
       "distance_avg                -0.000648   -0.024680    -0.006194   0.018111   \n",
       "fare_total                   0.002237    0.011140     0.008769   0.000007   \n",
       "fare_avg                    -0.001109    0.001301     0.001119  -0.000039   \n",
       "discount_total              -0.001108    0.003418     0.001981  -0.000183   \n",
       "discount_avg                -0.001114    0.002085     0.000914  -0.000128   \n",
       "preffered_taximodelid        0.000184   -0.072747    -0.021032   0.061060   \n",
       "trip_fare_total              0.002532    0.010655     0.008543   0.000047   \n",
       "trip_fare_avg               -0.001026    0.001141     0.001050  -0.000029   \n",
       "preffered_payment_method     0.001388    0.106957     0.071620  -0.003476   \n",
       "profile_engaged_period      -0.003446    0.107615     0.071952  -0.005572   \n",
       "\n",
       "                          distance_total  distance_avg  fare_total  fare_avg  \\\n",
       "passengerid                    -0.000163     -0.000648    0.002237 -0.001109   \n",
       "trip_total                      0.674052     -0.024680    0.011140  0.001301   \n",
       "delay_total                     0.500756     -0.006194    0.008769  0.001119   \n",
       "delay_avg                       0.005507      0.018111    0.000007 -0.000039   \n",
       "distance_total                  1.000000      0.505399    0.011706  0.003179   \n",
       "distance_avg                    0.505399      1.000000    0.000893  0.002712   \n",
       "fare_total                      0.011706      0.000893    1.000000  0.720850   \n",
       "fare_avg                        0.003179      0.002712    0.720850  1.000000   \n",
       "discount_total                  0.009950      0.001245    0.213926  0.078123   \n",
       "discount_avg                    0.008334      0.001747    0.213915  0.078122   \n",
       "preffered_taximodelid           0.010037      0.079570    0.001229 -0.000360   \n",
       "trip_fare_total                 0.009805      0.000641    0.976848  0.720824   \n",
       "trip_fare_avg                   0.002535      0.002583    0.706294  0.996943   \n",
       "preffered_payment_method        0.075225     -0.001005    0.002516  0.000573   \n",
       "profile_engaged_period          0.076152     -0.007688    0.000978  0.001425   \n",
       "\n",
       "                          discount_total  discount_avg  preffered_taximodelid  \\\n",
       "passengerid                    -0.001108     -0.001114               0.000184   \n",
       "trip_total                      0.003418      0.002085              -0.072747   \n",
       "delay_total                     0.001981      0.000914              -0.021032   \n",
       "delay_avg                      -0.000183     -0.000128               0.061060   \n",
       "distance_total                  0.009950      0.008334               0.010037   \n",
       "distance_avg                    0.001245      0.001747               0.079570   \n",
       "fare_total                      0.213926      0.213915               0.001229   \n",
       "fare_avg                        0.078123      0.078122              -0.000360   \n",
       "discount_total                  1.000000      0.999976               0.000629   \n",
       "discount_avg                    0.999976      1.000000               0.001062   \n",
       "preffered_taximodelid           0.000629      0.001062               1.000000   \n",
       "trip_fare_total                -0.000011     -0.000017               0.001121   \n",
       "trip_fare_avg                  -0.000011     -0.000014              -0.000444   \n",
       "preffered_payment_method       -0.000301     -0.000402               0.006603   \n",
       "profile_engaged_period         -0.001018     -0.001088              -0.032284   \n",
       "\n",
       "                          trip_fare_total  trip_fare_avg  \\\n",
       "passengerid                      0.002532      -0.001026   \n",
       "trip_total                       0.010655       0.001141   \n",
       "delay_total                      0.008543       0.001050   \n",
       "delay_avg                        0.000047      -0.000029   \n",
       "distance_total                   0.009805       0.002535   \n",
       "distance_avg                     0.000641       0.002583   \n",
       "fare_total                       0.976848       0.706294   \n",
       "fare_avg                         0.720824       0.996943   \n",
       "discount_total                  -0.000011      -0.000011   \n",
       "discount_avg                    -0.000017      -0.000014   \n",
       "preffered_taximodelid            0.001121      -0.000444   \n",
       "trip_fare_total                  1.000000       0.723035   \n",
       "trip_fare_avg                    0.723035       1.000000   \n",
       "preffered_payment_method         0.002641       0.000606   \n",
       "profile_engaged_period           0.001224       0.001515   \n",
       "\n",
       "                          preffered_payment_method  profile_engaged_period  \n",
       "passengerid                               0.001388               -0.003446  \n",
       "trip_total                                0.106957                0.107615  \n",
       "delay_total                               0.071620                0.071952  \n",
       "delay_avg                                -0.003476               -0.005572  \n",
       "distance_total                            0.075225                0.076152  \n",
       "distance_avg                             -0.001005               -0.007688  \n",
       "fare_total                                0.002516                0.000978  \n",
       "fare_avg                                  0.000573                0.001425  \n",
       "discount_total                           -0.000301               -0.001018  \n",
       "discount_avg                             -0.000402               -0.001088  \n",
       "preffered_taximodelid                     0.006603               -0.032284  \n",
       "trip_fare_total                           0.002641                0.001224  \n",
       "trip_fare_avg                             0.000606                0.001515  \n",
       "preffered_payment_method                  1.000000                0.094147  \n",
       "profile_engaged_period                    0.094147                1.000000  "
      ]
     },
     "execution_count": 7,
     "metadata": {},
     "output_type": "execute_result"
    }
   ],
   "source": [
    "data.corr()"
   ]
  },
  {
   "cell_type": "markdown",
   "metadata": {},
   "source": [
    "## Label Encoding Method"
   ]
  },
  {
   "cell_type": "code",
   "execution_count": 79,
   "metadata": {},
   "outputs": [],
   "source": [
    "label_encoder_no_of_class = LabelEncoder()\n",
    "label_encoder_no_of_class  =label_encoder_no_of_class.fit(prediction_data['churn'])\n",
    "prediction_data[\"churn\"] = label_encoder_no_of_class.transform(prediction_data[\"churn\"])\n",
    "\n"
   ]
  },
  {
   "cell_type": "code",
   "execution_count": 84,
   "metadata": {},
   "outputs": [],
   "source": [
    "label_encoder_preffered_taximodelid = LabelEncoder()\n",
    "label_encoder_preffered_taximodelid  =label_encoder_preffered_taximodelid.fit(prediction_data['preffered_taximodelid'])\n",
    "prediction_data[\"preffered_taximodelid\"] = label_encoder_preffered_taximodelid.transform(prediction_data[\"preffered_taximodelid\"])"
   ]
  },
  {
   "cell_type": "code",
   "execution_count": 102,
   "metadata": {},
   "outputs": [],
   "source": [
    "label_encoder_pre_booked = LabelEncoder()\n",
    "label_encoder_pre_booked =label_encoder_pre_booked.fit(prediction_data['pre_booked'])\n",
    "prediction_data[\"pre_booked\"] = label_encoder_pre_booked.transform(prediction_data[\"pre_booked\"])"
   ]
  },
  {
   "cell_type": "markdown",
   "metadata": {},
   "source": [
    "## One-hot Encoding Method"
   ]
  },
  {
   "cell_type": "code",
   "execution_count": 8,
   "metadata": {},
   "outputs": [],
   "source": [
    "data = pd.get_dummies(data=data, columns=['preffered_taximodelid','preffered_payment_method','pre_booked'])"
   ]
  },
  {
   "cell_type": "code",
   "execution_count": 9,
   "metadata": {},
   "outputs": [
    {
     "data": {
      "text/plain": [
       "Index(['passengerid', 'trip_total', 'delay_total', 'delay_avg',\n",
       "       'distance_total', 'distance_avg', 'fare_total', 'fare_avg',\n",
       "       'discount_total', 'discount_avg', 'trip_fare_total', 'trip_fare_avg',\n",
       "       'profile_engaged_period', 'churn', 'preffered_taximodelid_1',\n",
       "       'preffered_taximodelid_2', 'preffered_taximodelid_3',\n",
       "       'preffered_taximodelid_4', 'preffered_taximodelid_10',\n",
       "       'preffered_taximodelid_24', 'preffered_payment_method_1.0',\n",
       "       'preffered_payment_method_2.0', 'preffered_payment_method_3.0',\n",
       "       'preffered_payment_method_5.0', 'preffered_payment_method_7.0',\n",
       "       'pre_booked_0', 'pre_booked_0,1', 'pre_booked_1'],\n",
       "      dtype='object')"
      ]
     },
     "execution_count": 9,
     "metadata": {},
     "output_type": "execute_result"
    }
   ],
   "source": [
    "data.columns"
   ]
  },
  {
   "cell_type": "code",
   "execution_count": 10,
   "metadata": {
    "scrolled": true
   },
   "outputs": [
    {
     "data": {
      "text/html": [
       "<div>\n",
       "<style scoped>\n",
       "    .dataframe tbody tr th:only-of-type {\n",
       "        vertical-align: middle;\n",
       "    }\n",
       "\n",
       "    .dataframe tbody tr th {\n",
       "        vertical-align: top;\n",
       "    }\n",
       "\n",
       "    .dataframe thead th {\n",
       "        text-align: right;\n",
       "    }\n",
       "</style>\n",
       "<table border=\"1\" class=\"dataframe\">\n",
       "  <thead>\n",
       "    <tr style=\"text-align: right;\">\n",
       "      <th></th>\n",
       "      <th>passengerid</th>\n",
       "      <th>trip_total</th>\n",
       "      <th>delay_total</th>\n",
       "      <th>delay_avg</th>\n",
       "      <th>distance_total</th>\n",
       "      <th>distance_avg</th>\n",
       "      <th>fare_total</th>\n",
       "      <th>fare_avg</th>\n",
       "      <th>discount_total</th>\n",
       "      <th>discount_avg</th>\n",
       "      <th>...</th>\n",
       "      <th>preffered_taximodelid_10</th>\n",
       "      <th>preffered_taximodelid_24</th>\n",
       "      <th>preffered_payment_method_1.0</th>\n",
       "      <th>preffered_payment_method_2.0</th>\n",
       "      <th>preffered_payment_method_3.0</th>\n",
       "      <th>preffered_payment_method_5.0</th>\n",
       "      <th>preffered_payment_method_7.0</th>\n",
       "      <th>pre_booked_0</th>\n",
       "      <th>pre_booked_0,1</th>\n",
       "      <th>pre_booked_1</th>\n",
       "    </tr>\n",
       "  </thead>\n",
       "  <tbody>\n",
       "    <tr>\n",
       "      <th>0</th>\n",
       "      <td>2</td>\n",
       "      <td>3</td>\n",
       "      <td>14.72</td>\n",
       "      <td>4.906667</td>\n",
       "      <td>16.41</td>\n",
       "      <td>5.470000</td>\n",
       "      <td>661.35</td>\n",
       "      <td>220.450000</td>\n",
       "      <td>0.0</td>\n",
       "      <td>0.0</td>\n",
       "      <td>...</td>\n",
       "      <td>0</td>\n",
       "      <td>0</td>\n",
       "      <td>1</td>\n",
       "      <td>0</td>\n",
       "      <td>0</td>\n",
       "      <td>0</td>\n",
       "      <td>0</td>\n",
       "      <td>1</td>\n",
       "      <td>0</td>\n",
       "      <td>0</td>\n",
       "    </tr>\n",
       "    <tr>\n",
       "      <th>1</th>\n",
       "      <td>4</td>\n",
       "      <td>2</td>\n",
       "      <td>17.63</td>\n",
       "      <td>8.815000</td>\n",
       "      <td>12.26</td>\n",
       "      <td>6.130000</td>\n",
       "      <td>506.36</td>\n",
       "      <td>253.180000</td>\n",
       "      <td>200.0</td>\n",
       "      <td>100.0</td>\n",
       "      <td>...</td>\n",
       "      <td>0</td>\n",
       "      <td>0</td>\n",
       "      <td>1</td>\n",
       "      <td>0</td>\n",
       "      <td>0</td>\n",
       "      <td>0</td>\n",
       "      <td>0</td>\n",
       "      <td>1</td>\n",
       "      <td>0</td>\n",
       "      <td>0</td>\n",
       "    </tr>\n",
       "    <tr>\n",
       "      <th>2</th>\n",
       "      <td>5</td>\n",
       "      <td>1</td>\n",
       "      <td>6.45</td>\n",
       "      <td>6.450000</td>\n",
       "      <td>12.44</td>\n",
       "      <td>12.440000</td>\n",
       "      <td>471.85</td>\n",
       "      <td>471.850000</td>\n",
       "      <td>0.0</td>\n",
       "      <td>0.0</td>\n",
       "      <td>...</td>\n",
       "      <td>0</td>\n",
       "      <td>0</td>\n",
       "      <td>1</td>\n",
       "      <td>0</td>\n",
       "      <td>0</td>\n",
       "      <td>0</td>\n",
       "      <td>0</td>\n",
       "      <td>1</td>\n",
       "      <td>0</td>\n",
       "      <td>0</td>\n",
       "    </tr>\n",
       "    <tr>\n",
       "      <th>3</th>\n",
       "      <td>7</td>\n",
       "      <td>52</td>\n",
       "      <td>486.82</td>\n",
       "      <td>9.361923</td>\n",
       "      <td>280.20</td>\n",
       "      <td>5.388462</td>\n",
       "      <td>12725.76</td>\n",
       "      <td>244.726154</td>\n",
       "      <td>0.0</td>\n",
       "      <td>0.0</td>\n",
       "      <td>...</td>\n",
       "      <td>0</td>\n",
       "      <td>0</td>\n",
       "      <td>1</td>\n",
       "      <td>0</td>\n",
       "      <td>0</td>\n",
       "      <td>0</td>\n",
       "      <td>0</td>\n",
       "      <td>1</td>\n",
       "      <td>0</td>\n",
       "      <td>0</td>\n",
       "    </tr>\n",
       "    <tr>\n",
       "      <th>4</th>\n",
       "      <td>9</td>\n",
       "      <td>2</td>\n",
       "      <td>8.45</td>\n",
       "      <td>4.225000</td>\n",
       "      <td>6.80</td>\n",
       "      <td>3.400000</td>\n",
       "      <td>293.84</td>\n",
       "      <td>146.920000</td>\n",
       "      <td>0.0</td>\n",
       "      <td>0.0</td>\n",
       "      <td>...</td>\n",
       "      <td>0</td>\n",
       "      <td>0</td>\n",
       "      <td>1</td>\n",
       "      <td>0</td>\n",
       "      <td>0</td>\n",
       "      <td>0</td>\n",
       "      <td>0</td>\n",
       "      <td>1</td>\n",
       "      <td>0</td>\n",
       "      <td>0</td>\n",
       "    </tr>\n",
       "  </tbody>\n",
       "</table>\n",
       "<p>5 rows × 28 columns</p>\n",
       "</div>"
      ],
      "text/plain": [
       "   passengerid  trip_total  delay_total  delay_avg  distance_total  \\\n",
       "0            2           3        14.72   4.906667           16.41   \n",
       "1            4           2        17.63   8.815000           12.26   \n",
       "2            5           1         6.45   6.450000           12.44   \n",
       "3            7          52       486.82   9.361923          280.20   \n",
       "4            9           2         8.45   4.225000            6.80   \n",
       "\n",
       "   distance_avg  fare_total    fare_avg  discount_total  discount_avg  ...  \\\n",
       "0      5.470000      661.35  220.450000             0.0           0.0  ...   \n",
       "1      6.130000      506.36  253.180000           200.0         100.0  ...   \n",
       "2     12.440000      471.85  471.850000             0.0           0.0  ...   \n",
       "3      5.388462    12725.76  244.726154             0.0           0.0  ...   \n",
       "4      3.400000      293.84  146.920000             0.0           0.0  ...   \n",
       "\n",
       "   preffered_taximodelid_10  preffered_taximodelid_24  \\\n",
       "0                         0                         0   \n",
       "1                         0                         0   \n",
       "2                         0                         0   \n",
       "3                         0                         0   \n",
       "4                         0                         0   \n",
       "\n",
       "   preffered_payment_method_1.0 preffered_payment_method_2.0  \\\n",
       "0                             1                            0   \n",
       "1                             1                            0   \n",
       "2                             1                            0   \n",
       "3                             1                            0   \n",
       "4                             1                            0   \n",
       "\n",
       "   preffered_payment_method_3.0  preffered_payment_method_5.0  \\\n",
       "0                             0                             0   \n",
       "1                             0                             0   \n",
       "2                             0                             0   \n",
       "3                             0                             0   \n",
       "4                             0                             0   \n",
       "\n",
       "   preffered_payment_method_7.0  pre_booked_0  pre_booked_0,1  pre_booked_1  \n",
       "0                             0             1               0             0  \n",
       "1                             0             1               0             0  \n",
       "2                             0             1               0             0  \n",
       "3                             0             1               0             0  \n",
       "4                             0             1               0             0  \n",
       "\n",
       "[5 rows x 28 columns]"
      ]
     },
     "execution_count": 10,
     "metadata": {},
     "output_type": "execute_result"
    }
   ],
   "source": [
    "data.head()"
   ]
  },
  {
   "cell_type": "code",
   "execution_count": 12,
   "metadata": {},
   "outputs": [],
   "source": [
    "data= data[['passengerid', 'trip_total', 'delay_total', 'delay_avg',\n",
    "       'distance_total', 'distance_avg', 'fare_total', 'fare_avg',\n",
    "       'discount_total', 'discount_avg', 'trip_fare_total', 'trip_fare_avg',\n",
    "       'profile_engaged_period', 'preffered_taximodelid_1',\n",
    "       'preffered_taximodelid_2', 'preffered_taximodelid_3',\n",
    "       'preffered_taximodelid_4', 'preffered_taximodelid_10',\n",
    "       'preffered_taximodelid_24', 'preffered_payment_method_1.0',\n",
    "       'preffered_payment_method_2.0', 'preffered_payment_method_3.0',\n",
    "       'preffered_payment_method_5.0', 'preffered_payment_method_7.0',\n",
    "       'pre_booked_0', 'pre_booked_0,1', 'pre_booked_1', 'churn']]\n"
   ]
  },
  {
   "cell_type": "code",
   "execution_count": 14,
   "metadata": {
    "scrolled": true
   },
   "outputs": [],
   "source": [
    "label_encoder_class = LabelEncoder()\n",
    "label_encoder_class  =label_encoder_class.fit(data[\"churn\"])\n",
    "data[\"churn\"] = label_encoder_class.transform(data[\"churn\"])"
   ]
  },
  {
   "cell_type": "code",
   "execution_count": 15,
   "metadata": {},
   "outputs": [
    {
     "data": {
      "text/plain": [
       "0    0\n",
       "1    0\n",
       "2    0\n",
       "3    0\n",
       "4    1\n",
       "Name: churn, dtype: int64"
      ]
     },
     "execution_count": 15,
     "metadata": {},
     "output_type": "execute_result"
    }
   ],
   "source": [
    "data['churn'].head()"
   ]
  },
  {
   "cell_type": "code",
   "execution_count": 16,
   "metadata": {},
   "outputs": [
    {
     "data": {
      "text/plain": [
       "(384591, 28)"
      ]
     },
     "execution_count": 16,
     "metadata": {},
     "output_type": "execute_result"
    }
   ],
   "source": [
    "data.shape"
   ]
  },
  {
   "cell_type": "markdown",
   "metadata": {},
   "source": [
    "## Split Data"
   ]
  },
  {
   "cell_type": "code",
   "execution_count": 45,
   "metadata": {},
   "outputs": [],
   "source": [
    "\n",
    "X = data.iloc[:, 1:27].values \n",
    "Y = data.iloc[:, 27].values\n",
    "\n",
    "#Splitting the dataset into the Training set and Test set\n",
    "X_train, X_test, Y_train, Y_test = train_test_split(X, Y, test_size = 0.3490, random_state = 0)"
   ]
  },
  {
   "cell_type": "markdown",
   "metadata": {},
   "source": [
    "### Data Scaling"
   ]
  },
  {
   "cell_type": "code",
   "execution_count": 46,
   "metadata": {},
   "outputs": [],
   "source": [
    "\n",
    "minmax_scale = preprocessing.MinMaxScaler().fit(X_train)\n",
    "X_train = minmax_scale.transform(X_train)"
   ]
  },
  {
   "cell_type": "markdown",
   "metadata": {},
   "source": [
    "### Using Default Random Forest Classification"
   ]
  },
  {
   "cell_type": "code",
   "execution_count": 37,
   "metadata": {},
   "outputs": [],
   "source": [
    "clf = RandomForestClassifier(n_jobs=2, random_state=0)"
   ]
  },
  {
   "cell_type": "code",
   "execution_count": 38,
   "metadata": {},
   "outputs": [],
   "source": [
    "clf = clf.fit(X_train,Y_train)"
   ]
  },
  {
   "cell_type": "code",
   "execution_count": 39,
   "metadata": {},
   "outputs": [],
   "source": [
    "X_test = minmax_scale.transform(X_test)"
   ]
  },
  {
   "cell_type": "code",
   "execution_count": 40,
   "metadata": {},
   "outputs": [],
   "source": [
    "Y_pred = clf .predict(X_test)"
   ]
  },
  {
   "cell_type": "code",
   "execution_count": 41,
   "metadata": {},
   "outputs": [],
   "source": [
    "#confusion_matrix_out = confusion_matrix(Y_test, Y_pred)"
   ]
  },
  {
   "cell_type": "code",
   "execution_count": 42,
   "metadata": {},
   "outputs": [],
   "source": [
    "Accuracy= metrics.accuracy_score(Y_test, Y_pred)\n",
    "Precision= metrics.precision_score(Y_test, Y_pred)\n",
    "Recall= metrics.recall_score(Y_test, Y_pred)\n",
    "f1score = metrics.f1_score(Y_test, Y_pred, average='macro')"
   ]
  },
  {
   "cell_type": "code",
   "execution_count": 43,
   "metadata": {},
   "outputs": [
    {
     "name": "stdout",
     "output_type": "stream",
     "text": [
      "Accuracy is: 0.7202267867653085\n",
      "Precision is:  0.6482749015082176\n",
      "Recall is:  0.621111026384017\n",
      "F1score is:  0.7039098226814149\n"
     ]
    }
   ],
   "source": [
    "print('Accuracy is:', Accuracy)\n",
    "print('Precision is: ', Precision)\n",
    "print('Recall is: ', Recall)\n",
    "print('F1score is: ', f1score)"
   ]
  },
  {
   "cell_type": "code",
   "execution_count": 44,
   "metadata": {},
   "outputs": [],
   "source": [
    "pickle.dump(clf, open(\"model/random_forest_classifier.pkl\",\"wb\"))"
   ]
  },
  {
   "cell_type": "markdown",
   "metadata": {},
   "source": [
    "### Using Hyper parameter optimization"
   ]
  },
  {
   "cell_type": "code",
   "execution_count": 47,
   "metadata": {},
   "outputs": [],
   "source": [
    "clf = RandomForestClassifier()"
   ]
  },
  {
   "cell_type": "code",
   "execution_count": 49,
   "metadata": {},
   "outputs": [],
   "source": [
    "param_dist = {\"clf__max_features\": sp_randint(1, 20),\n",
    "              \"clf__bootstrap\": [True, False],\n",
    "              \"clf__warm_start\":[True, False],\n",
    "              \"clf__n_estimators\":sp_randint(50, 150),\n",
    "              \"clf__min_samples_split\" : sp_randint(2,20),\n",
    "              \"clf__criterion\": [\"gini\",\"entropy\"],\n",
    "              \"clf__max_depth\":sp_randint(1, 50),\n",
    "              \"clf__max_samples\":sp_randint(2,100)\n",
    "             }"
   ]
  },
  {
   "cell_type": "code",
   "execution_count": 50,
   "metadata": {},
   "outputs": [],
   "source": [
    "pipeline = Pipeline([\n",
    "        ('clf', clf)\n",
    "    ])\n",
    "  \n",
    "# run randomized search\n",
    "random_search = RandomizedSearchCV(pipeline, param_distributions=param_dist,n_iter=10, error_score=0.0, random_state=0)"
   ]
  },
  {
   "cell_type": "code",
   "execution_count": 51,
   "metadata": {},
   "outputs": [
    {
     "data": {
      "text/plain": [
       "RandomizedSearchCV(cv=None, error_score=0.0,\n",
       "                   estimator=Pipeline(memory=None,\n",
       "                                      steps=[('clf',\n",
       "                                              RandomForestClassifier(bootstrap=True,\n",
       "                                                                     ccp_alpha=0.0,\n",
       "                                                                     class_weight=None,\n",
       "                                                                     criterion='gini',\n",
       "                                                                     max_depth=None,\n",
       "                                                                     max_features='auto',\n",
       "                                                                     max_leaf_nodes=None,\n",
       "                                                                     max_samples=None,\n",
       "                                                                     min_impurity_decrease=0.0,\n",
       "                                                                     min_impurity_split=None,\n",
       "                                                                     min_samples_leaf=1,\n",
       "                                                                     min_samples_split=2,\n",
       "                                                                     min_weight_fra...\n",
       "                                        'clf__max_samples': <scipy.stats._distn_infrastructure.rv_frozen object at 0x0000024E35FA92B0>,\n",
       "                                        'clf__min_samples_split': <scipy.stats._distn_infrastructure.rv_frozen object at 0x0000024E35FA9780>,\n",
       "                                        'clf__n_estimators': <scipy.stats._distn_infrastructure.rv_frozen object at 0x0000024E36540AC8>,\n",
       "                                        'clf__warm_start': [True, False]},\n",
       "                   pre_dispatch='2*n_jobs', random_state=0, refit=True,\n",
       "                   return_train_score=False, scoring=None, verbose=0)"
      ]
     },
     "execution_count": 51,
     "metadata": {},
     "output_type": "execute_result"
    }
   ],
   "source": [
    "random_search.fit(X_train,Y_train)"
   ]
  },
  {
   "cell_type": "code",
   "execution_count": 52,
   "metadata": {},
   "outputs": [
    {
     "name": "stdout",
     "output_type": "stream",
     "text": [
      "0.7281122028188648\n"
     ]
    }
   ],
   "source": [
    "print(random_search.best_score_)"
   ]
  },
  {
   "cell_type": "code",
   "execution_count": 53,
   "metadata": {},
   "outputs": [],
   "source": [
    "X_test = minmax_scale.transform(X_test)\n",
    "Y_pred = random_search.best_estimator_.predict(X_test)"
   ]
  },
  {
   "cell_type": "code",
   "execution_count": 56,
   "metadata": {},
   "outputs": [],
   "source": [
    "Accuracy= metrics.accuracy_score(Y_test, Y_pred)\n",
    "Precision= metrics.precision_score(Y_test, Y_pred)\n",
    "Recall= metrics.recall_score(Y_test, Y_pred)\n",
    "f1score = metrics.f1_score(Y_test, Y_pred, average='macro')"
   ]
  },
  {
   "cell_type": "code",
   "execution_count": 57,
   "metadata": {},
   "outputs": [
    {
     "name": "stdout",
     "output_type": "stream",
     "text": [
      "Accuracy is: 0.7266787361331516\n",
      "Precision is:  0.654359657022043\n",
      "Recall is:  0.6372197651364954\n",
      "F1score is:  0.71160627476979\n"
     ]
    }
   ],
   "source": [
    "print('Accuracy is:', Accuracy)\n",
    "print('Precision is: ', Precision)\n",
    "print('Recall is: ', Recall)\n",
    "print('F1score is: ', f1score)"
   ]
  },
  {
   "cell_type": "code",
   "execution_count": 55,
   "metadata": {},
   "outputs": [
    {
     "data": {
      "text/plain": [
       "Pipeline(memory=None,\n",
       "         steps=[('clf',\n",
       "                 RandomForestClassifier(bootstrap=False, ccp_alpha=0.0,\n",
       "                                        class_weight=None, criterion='gini',\n",
       "                                        max_depth=10, max_features=17,\n",
       "                                        max_leaf_nodes=None, max_samples=71,\n",
       "                                        min_impurity_decrease=0.0,\n",
       "                                        min_impurity_split=None,\n",
       "                                        min_samples_leaf=1,\n",
       "                                        min_samples_split=17,\n",
       "                                        min_weight_fraction_leaf=0.0,\n",
       "                                        n_estimators=97, n_jobs=None,\n",
       "                                        oob_score=False, random_state=None,\n",
       "                                        verbose=0, warm_start=True))],\n",
       "         verbose=False)"
      ]
     },
     "execution_count": 55,
     "metadata": {},
     "output_type": "execute_result"
    }
   ],
   "source": [
    "random_search.best_estimator_"
   ]
  },
  {
   "cell_type": "code",
   "execution_count": 58,
   "metadata": {},
   "outputs": [],
   "source": [
    "\n",
    "###random_search= pickle.load(open(\"classifier.pkl\",\"rb\"))\n",
    "pickle.dump(random_search, open(\"model/RF_hyper_classifier.pkl\",\"wb\"))"
   ]
  },
  {
   "cell_type": "code",
   "execution_count": null,
   "metadata": {},
   "outputs": [],
   "source": []
  }
 ],
 "metadata": {
  "kernelspec": {
   "display_name": "Python 3",
   "language": "python",
   "name": "python3"
  },
  "language_info": {
   "codemirror_mode": {
    "name": "ipython",
    "version": 3
   },
   "file_extension": ".py",
   "mimetype": "text/x-python",
   "name": "python",
   "nbconvert_exporter": "python",
   "pygments_lexer": "ipython3",
   "version": "3.7.3"
  }
 },
 "nbformat": 4,
 "nbformat_minor": 2
}
