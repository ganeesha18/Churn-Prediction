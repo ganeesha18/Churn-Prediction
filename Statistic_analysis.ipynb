{
 "cells": [
  {
   "cell_type": "markdown",
   "metadata": {},
   "source": [
    "## Customer Churn Prediction"
   ]
  },
  {
   "cell_type": "code",
   "execution_count": 250,
   "metadata": {},
   "outputs": [],
   "source": [
    "import pandas as pd\n",
    "from datetime import datetime"
   ]
  },
  {
   "cell_type": "code",
   "execution_count": 251,
   "metadata": {},
   "outputs": [],
   "source": [
    "raw_data_ = pd.read_csv('data/DS_CaseStudy_Churn_Pred_Data.csv')"
   ]
  },
  {
   "cell_type": "code",
   "execution_count": 253,
   "metadata": {},
   "outputs": [],
   "source": [
    "raw_data = raw_data_.copy()\n"
   ]
  },
  {
   "cell_type": "code",
   "execution_count": 69,
   "metadata": {},
   "outputs": [
    {
     "data": {
      "text/html": [
       "<div>\n",
       "<style scoped>\n",
       "    .dataframe tbody tr th:only-of-type {\n",
       "        vertical-align: middle;\n",
       "    }\n",
       "\n",
       "    .dataframe tbody tr th {\n",
       "        vertical-align: top;\n",
       "    }\n",
       "\n",
       "    .dataframe thead th {\n",
       "        text-align: right;\n",
       "    }\n",
       "</style>\n",
       "<table border=\"1\" class=\"dataframe\">\n",
       "  <thead>\n",
       "    <tr style=\"text-align: right;\">\n",
       "      <th></th>\n",
       "      <th>delay</th>\n",
       "      <th>created_date</th>\n",
       "      <th>pickup_date</th>\n",
       "      <th>distance</th>\n",
       "      <th>driver_rating</th>\n",
       "      <th>fare</th>\n",
       "      <th>discount</th>\n",
       "      <th>payment_method</th>\n",
       "      <th>promocode</th>\n",
       "      <th>taximodelid</th>\n",
       "      <th>travel_status</th>\n",
       "      <th>trip_fare</th>\n",
       "      <th>profile_created</th>\n",
       "      <th>status_description</th>\n",
       "      <th>pre_booked</th>\n",
       "      <th>passengerid</th>\n",
       "      <th>tripid</th>\n",
       "      <th>created_date_date_time</th>\n",
       "    </tr>\n",
       "  </thead>\n",
       "  <tbody>\n",
       "    <tr>\n",
       "      <th>0</th>\n",
       "      <td>NaN</td>\n",
       "      <td>2019-08-09</td>\n",
       "      <td>NaN</td>\n",
       "      <td>NaN</td>\n",
       "      <td>NaN</td>\n",
       "      <td>NaN</td>\n",
       "      <td>NaN</td>\n",
       "      <td>1.0</td>\n",
       "      <td>NaN</td>\n",
       "      <td>1</td>\n",
       "      <td>12</td>\n",
       "      <td>NaN</td>\n",
       "      <td>20170223</td>\n",
       "      <td>Unavailable</td>\n",
       "      <td>0</td>\n",
       "      <td>107206</td>\n",
       "      <td>7542464</td>\n",
       "      <td>2019-08-09</td>\n",
       "    </tr>\n",
       "    <tr>\n",
       "      <th>1</th>\n",
       "      <td>8.38</td>\n",
       "      <td>2019-07-01</td>\n",
       "      <td>20190701.0</td>\n",
       "      <td>16.49</td>\n",
       "      <td>NaN</td>\n",
       "      <td>676.13</td>\n",
       "      <td>0.0</td>\n",
       "      <td>1.0</td>\n",
       "      <td>NaN</td>\n",
       "      <td>1</td>\n",
       "      <td>1</td>\n",
       "      <td>676.13</td>\n",
       "      <td>20180201</td>\n",
       "      <td>Completed</td>\n",
       "      <td>0</td>\n",
       "      <td>123034</td>\n",
       "      <td>6044316</td>\n",
       "      <td>2019-07-01</td>\n",
       "    </tr>\n",
       "    <tr>\n",
       "      <th>2</th>\n",
       "      <td>16.45</td>\n",
       "      <td>2019-08-30</td>\n",
       "      <td>20190830.0</td>\n",
       "      <td>14.39</td>\n",
       "      <td>NaN</td>\n",
       "      <td>836.63</td>\n",
       "      <td>0.0</td>\n",
       "      <td>1.0</td>\n",
       "      <td>NaN</td>\n",
       "      <td>2</td>\n",
       "      <td>1</td>\n",
       "      <td>836.63</td>\n",
       "      <td>20180905</td>\n",
       "      <td>Completed</td>\n",
       "      <td>0</td>\n",
       "      <td>201136</td>\n",
       "      <td>1959290</td>\n",
       "      <td>2019-08-30</td>\n",
       "    </tr>\n",
       "    <tr>\n",
       "      <th>3</th>\n",
       "      <td>NaN</td>\n",
       "      <td>2019-07-09</td>\n",
       "      <td>NaN</td>\n",
       "      <td>NaN</td>\n",
       "      <td>NaN</td>\n",
       "      <td>NaN</td>\n",
       "      <td>NaN</td>\n",
       "      <td>1.0</td>\n",
       "      <td>lpp42</td>\n",
       "      <td>1</td>\n",
       "      <td>12</td>\n",
       "      <td>NaN</td>\n",
       "      <td>20180113</td>\n",
       "      <td>Unavailable</td>\n",
       "      <td>0</td>\n",
       "      <td>403293</td>\n",
       "      <td>1250879</td>\n",
       "      <td>2019-07-09</td>\n",
       "    </tr>\n",
       "    <tr>\n",
       "      <th>4</th>\n",
       "      <td>NaN</td>\n",
       "      <td>2019-07-18</td>\n",
       "      <td>NaN</td>\n",
       "      <td>NaN</td>\n",
       "      <td>NaN</td>\n",
       "      <td>NaN</td>\n",
       "      <td>NaN</td>\n",
       "      <td>1.0</td>\n",
       "      <td>abac</td>\n",
       "      <td>4</td>\n",
       "      <td>12</td>\n",
       "      <td>NaN</td>\n",
       "      <td>20190702</td>\n",
       "      <td>Unavailable</td>\n",
       "      <td>0</td>\n",
       "      <td>448530</td>\n",
       "      <td>884375</td>\n",
       "      <td>2019-07-18</td>\n",
       "    </tr>\n",
       "  </tbody>\n",
       "</table>\n",
       "</div>"
      ],
      "text/plain": [
       "   delay created_date  pickup_date  distance  driver_rating    fare  discount  \\\n",
       "0    NaN   2019-08-09          NaN       NaN            NaN     NaN       NaN   \n",
       "1   8.38   2019-07-01   20190701.0     16.49            NaN  676.13       0.0   \n",
       "2  16.45   2019-08-30   20190830.0     14.39            NaN  836.63       0.0   \n",
       "3    NaN   2019-07-09          NaN       NaN            NaN     NaN       NaN   \n",
       "4    NaN   2019-07-18          NaN       NaN            NaN     NaN       NaN   \n",
       "\n",
       "   payment_method promocode  taximodelid  travel_status  trip_fare  \\\n",
       "0             1.0       NaN            1             12        NaN   \n",
       "1             1.0       NaN            1              1     676.13   \n",
       "2             1.0       NaN            2              1     836.63   \n",
       "3             1.0     lpp42            1             12        NaN   \n",
       "4             1.0      abac            4             12        NaN   \n",
       "\n",
       "   profile_created status_description  pre_booked  passengerid   tripid  \\\n",
       "0         20170223        Unavailable           0       107206  7542464   \n",
       "1         20180201          Completed           0       123034  6044316   \n",
       "2         20180905          Completed           0       201136  1959290   \n",
       "3         20180113        Unavailable           0       403293  1250879   \n",
       "4         20190702        Unavailable           0       448530   884375   \n",
       "\n",
       "  created_date_date_time  \n",
       "0             2019-08-09  \n",
       "1             2019-07-01  \n",
       "2             2019-08-30  \n",
       "3             2019-07-09  \n",
       "4             2019-07-18  "
      ]
     },
     "execution_count": 69,
     "metadata": {},
     "output_type": "execute_result"
    }
   ],
   "source": [
    "raw_data.head()"
   ]
  },
  {
   "cell_type": "code",
   "execution_count": 353,
   "metadata": {},
   "outputs": [
    {
     "data": {
      "text/plain": [
       "(9004901, 18)"
      ]
     },
     "execution_count": 353,
     "metadata": {},
     "output_type": "execute_result"
    }
   ],
   "source": [
    "raw_data.shape"
   ]
  },
  {
   "cell_type": "code",
   "execution_count": 351,
   "metadata": {},
   "outputs": [
    {
     "name": "stdout",
     "output_type": "stream",
     "text": [
      "518744\n"
     ]
    }
   ],
   "source": [
    "print(len(raw_data['passengerid'].unique()))"
   ]
  },
  {
   "cell_type": "code",
   "execution_count": 254,
   "metadata": {},
   "outputs": [],
   "source": [
    "raw_data['created_date'] = pd.to_datetime(raw_data['created_date'].astype(str))\n"
   ]
  },
  {
   "cell_type": "code",
   "execution_count": 255,
   "metadata": {},
   "outputs": [],
   "source": [
    "raw_data['month'] = raw_data['created_date'].dt.month\n"
   ]
  },
  {
   "cell_type": "code",
   "execution_count": 256,
   "metadata": {},
   "outputs": [],
   "source": [
    "raw_data['profile_created'] = pd.to_datetime(raw_data['profile_created'].astype(str))"
   ]
  },
  {
   "cell_type": "code",
   "execution_count": 308,
   "metadata": {},
   "outputs": [],
   "source": [
    "raw_data['month'] = raw_data['month'].astype(str)"
   ]
  },
  {
   "cell_type": "code",
   "execution_count": 86,
   "metadata": {},
   "outputs": [],
   "source": [
    "agg_pasenger_month = raw_data.groupby(['passengerid','month']).agg({'month' : {'count':'count'}})\n",
    "agg_pasenger_month = pd.DataFrame(agg_pasenger_month).reset_index(col_level=1)    \n",
    "agg_pasenger_month.columns = agg_pasenger_month.columns.get_level_values(1)"
   ]
  },
  {
   "cell_type": "code",
   "execution_count": 87,
   "metadata": {},
   "outputs": [
    {
     "data": {
      "text/html": [
       "<div>\n",
       "<style scoped>\n",
       "    .dataframe tbody tr th:only-of-type {\n",
       "        vertical-align: middle;\n",
       "    }\n",
       "\n",
       "    .dataframe tbody tr th {\n",
       "        vertical-align: top;\n",
       "    }\n",
       "\n",
       "    .dataframe thead th {\n",
       "        text-align: right;\n",
       "    }\n",
       "</style>\n",
       "<table border=\"1\" class=\"dataframe\">\n",
       "  <thead>\n",
       "    <tr style=\"text-align: right;\">\n",
       "      <th></th>\n",
       "      <th>passengerid</th>\n",
       "      <th>month</th>\n",
       "      <th>count</th>\n",
       "    </tr>\n",
       "  </thead>\n",
       "  <tbody>\n",
       "    <tr>\n",
       "      <th>0</th>\n",
       "      <td>1</td>\n",
       "      <td>7</td>\n",
       "      <td>10</td>\n",
       "    </tr>\n",
       "    <tr>\n",
       "      <th>1</th>\n",
       "      <td>2</td>\n",
       "      <td>6</td>\n",
       "      <td>3</td>\n",
       "    </tr>\n",
       "    <tr>\n",
       "      <th>2</th>\n",
       "      <td>2</td>\n",
       "      <td>7</td>\n",
       "      <td>2</td>\n",
       "    </tr>\n",
       "    <tr>\n",
       "      <th>3</th>\n",
       "      <td>2</td>\n",
       "      <td>8</td>\n",
       "      <td>2</td>\n",
       "    </tr>\n",
       "    <tr>\n",
       "      <th>4</th>\n",
       "      <td>3</td>\n",
       "      <td>7</td>\n",
       "      <td>1</td>\n",
       "    </tr>\n",
       "  </tbody>\n",
       "</table>\n",
       "</div>"
      ],
      "text/plain": [
       "   passengerid month  count\n",
       "0            1     7     10\n",
       "1            2     6      3\n",
       "2            2     7      2\n",
       "3            2     8      2\n",
       "4            3     7      1"
      ]
     },
     "execution_count": 87,
     "metadata": {},
     "output_type": "execute_result"
    }
   ],
   "source": [
    "agg_pasenger_month.head()"
   ]
  },
  {
   "cell_type": "code",
   "execution_count": 88,
   "metadata": {},
   "outputs": [],
   "source": [
    "agg_pasenger_month = agg_pasenger_month.pivot(index='passengerid', columns='month', values='count').reset_index()\n",
    "agg_pasenger_month= agg_pasenger_month.rename_axis(None, axis=1)"
   ]
  },
  {
   "cell_type": "code",
   "execution_count": 350,
   "metadata": {},
   "outputs": [
    {
     "data": {
      "text/html": [
       "<div>\n",
       "<style scoped>\n",
       "    .dataframe tbody tr th:only-of-type {\n",
       "        vertical-align: middle;\n",
       "    }\n",
       "\n",
       "    .dataframe tbody tr th {\n",
       "        vertical-align: top;\n",
       "    }\n",
       "\n",
       "    .dataframe thead th {\n",
       "        text-align: right;\n",
       "    }\n",
       "</style>\n",
       "<table border=\"1\" class=\"dataframe\">\n",
       "  <thead>\n",
       "    <tr style=\"text-align: right;\">\n",
       "      <th></th>\n",
       "      <th>passengerid</th>\n",
       "      <th>6</th>\n",
       "      <th>7</th>\n",
       "      <th>8</th>\n",
       "    </tr>\n",
       "  </thead>\n",
       "  <tbody>\n",
       "    <tr>\n",
       "      <th>0</th>\n",
       "      <td>1</td>\n",
       "      <td>NaN</td>\n",
       "      <td>10.0</td>\n",
       "      <td>NaN</td>\n",
       "    </tr>\n",
       "    <tr>\n",
       "      <th>1</th>\n",
       "      <td>2</td>\n",
       "      <td>3.0</td>\n",
       "      <td>2.0</td>\n",
       "      <td>2.0</td>\n",
       "    </tr>\n",
       "    <tr>\n",
       "      <th>2</th>\n",
       "      <td>3</td>\n",
       "      <td>NaN</td>\n",
       "      <td>1.0</td>\n",
       "      <td>NaN</td>\n",
       "    </tr>\n",
       "    <tr>\n",
       "      <th>3</th>\n",
       "      <td>4</td>\n",
       "      <td>3.0</td>\n",
       "      <td>NaN</td>\n",
       "      <td>1.0</td>\n",
       "    </tr>\n",
       "    <tr>\n",
       "      <th>4</th>\n",
       "      <td>5</td>\n",
       "      <td>1.0</td>\n",
       "      <td>NaN</td>\n",
       "      <td>16.0</td>\n",
       "    </tr>\n",
       "  </tbody>\n",
       "</table>\n",
       "</div>"
      ],
      "text/plain": [
       "   passengerid    6     7     8\n",
       "0            1  NaN  10.0   NaN\n",
       "1            2  3.0   2.0   2.0\n",
       "2            3  NaN   1.0   NaN\n",
       "3            4  3.0   NaN   1.0\n",
       "4            5  1.0   NaN  16.0"
      ]
     },
     "execution_count": 350,
     "metadata": {},
     "output_type": "execute_result"
    }
   ],
   "source": [
    "agg_pasenger_month.head()"
   ]
  },
  {
   "cell_type": "code",
   "execution_count": 93,
   "metadata": {},
   "outputs": [],
   "source": [
    "serie_6 = pd.notnull(agg_pasenger_month['6'])\n",
    "df_6 = agg_pasenger_month[serie_6]\n",
    "\n",
    "serie_7 = pd.notnull(agg_pasenger_month['7'])\n",
    "df_7 = agg_pasenger_month[serie_7]\n",
    "serie_8 = pd.notnull(agg_pasenger_month['8'])\n",
    "df_8 = agg_pasenger_month[serie_8]"
   ]
  },
  {
   "cell_type": "code",
   "execution_count": 95,
   "metadata": {},
   "outputs": [
    {
     "name": "stdout",
     "output_type": "stream",
     "text": [
      "(312834, 4)\n",
      "(327451, 4)\n",
      "(337241, 4)\n"
     ]
    }
   ],
   "source": [
    "print(df_6.shape)\n",
    "print(df_7.shape)\n",
    "print(df_8.shape)"
   ]
  },
  {
   "cell_type": "code",
   "execution_count": 102,
   "metadata": {},
   "outputs": [],
   "source": [
    "set_6 = list(df_6['passengerid'])\n",
    "set_7 = list(df_7['passengerid'])\n",
    "set_8 = list(df_8['passengerid'])\n",
    "set_6 = set(set_6)\n",
    "set_7 = set(set_7)\n",
    "set_8 = set(set_8)"
   ]
  },
  {
   "cell_type": "code",
   "execution_count": 103,
   "metadata": {},
   "outputs": [],
   "source": [
    "set_6_int_set_7 = set_6.intersection(set_7)\n",
    "set_6_int_set_8 = set_6.intersection(set_8)\n",
    "set_7_int_set_8 = set_7.intersection(set_8)\n",
    "set_6_int_set_7_int_set_8 = set_6.intersection(set_7,set_8)"
   ]
  },
  {
   "cell_type": "code",
   "execution_count": 105,
   "metadata": {},
   "outputs": [
    {
     "name": "stdout",
     "output_type": "stream",
     "text": [
      "211324\n",
      "195544\n",
      "219779\n",
      "167865\n"
     ]
    }
   ],
   "source": [
    "print(len(set_6_int_set_7))\n",
    "print(len(set_6_int_set_8))\n",
    "print(len(set_7_int_set_8))\n",
    "print(len(set_6_int_set_7_int_set_8))"
   ]
  },
  {
   "cell_type": "code",
   "execution_count": null,
   "metadata": {},
   "outputs": [],
   "source": []
  }
 ],
 "metadata": {
  "kernelspec": {
   "display_name": "Python 3",
   "language": "python",
   "name": "python3"
  },
  "language_info": {
   "codemirror_mode": {
    "name": "ipython",
    "version": 3
   },
   "file_extension": ".py",
   "mimetype": "text/x-python",
   "name": "python",
   "nbconvert_exporter": "python",
   "pygments_lexer": "ipython3",
   "version": "3.7.3"
  }
 },
 "nbformat": 4,
 "nbformat_minor": 2
}
