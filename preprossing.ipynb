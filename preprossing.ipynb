{
 "cells": [
  {
   "cell_type": "markdown",
   "metadata": {},
   "source": [
    "# Customer Churn Prediction"
   ]
  },
  {
   "cell_type": "markdown",
   "metadata": {},
   "source": [
    "## Data Preprocesing"
   ]
  },
  {
   "cell_type": "markdown",
   "metadata": {},
   "source": [
    "#### Loading Data"
   ]
  },
  {
   "cell_type": "code",
   "execution_count": 14,
   "metadata": {},
   "outputs": [],
   "source": [
    "import pandas as pd\n",
    "from datetime import datetime"
   ]
  },
  {
   "cell_type": "code",
   "execution_count": 15,
   "metadata": {},
   "outputs": [],
   "source": [
    "raw_data_ = pd.read_csv('data/DS_CaseStudy_Churn_Pred_Data.csv')"
   ]
  },
  {
   "cell_type": "code",
   "execution_count": 16,
   "metadata": {},
   "outputs": [],
   "source": [
    "raw_data = raw_data_.copy()"
   ]
  },
  {
   "cell_type": "code",
   "execution_count": 17,
   "metadata": {},
   "outputs": [
    {
     "data": {
      "text/html": [
       "<div>\n",
       "<style scoped>\n",
       "    .dataframe tbody tr th:only-of-type {\n",
       "        vertical-align: middle;\n",
       "    }\n",
       "\n",
       "    .dataframe tbody tr th {\n",
       "        vertical-align: top;\n",
       "    }\n",
       "\n",
       "    .dataframe thead th {\n",
       "        text-align: right;\n",
       "    }\n",
       "</style>\n",
       "<table border=\"1\" class=\"dataframe\">\n",
       "  <thead>\n",
       "    <tr style=\"text-align: right;\">\n",
       "      <th></th>\n",
       "      <th>delay</th>\n",
       "      <th>created_date</th>\n",
       "      <th>pickup_date</th>\n",
       "      <th>distance</th>\n",
       "      <th>driver_rating</th>\n",
       "      <th>fare</th>\n",
       "      <th>discount</th>\n",
       "      <th>payment_method</th>\n",
       "      <th>promocode</th>\n",
       "      <th>taximodelid</th>\n",
       "      <th>travel_status</th>\n",
       "      <th>trip_fare</th>\n",
       "      <th>profile_created</th>\n",
       "      <th>status_description</th>\n",
       "      <th>pre_booked</th>\n",
       "      <th>passengerid</th>\n",
       "      <th>tripid</th>\n",
       "    </tr>\n",
       "  </thead>\n",
       "  <tbody>\n",
       "    <tr>\n",
       "      <th>0</th>\n",
       "      <td>NaN</td>\n",
       "      <td>20190809</td>\n",
       "      <td>NaN</td>\n",
       "      <td>NaN</td>\n",
       "      <td>NaN</td>\n",
       "      <td>NaN</td>\n",
       "      <td>NaN</td>\n",
       "      <td>1.0</td>\n",
       "      <td>NaN</td>\n",
       "      <td>1</td>\n",
       "      <td>12</td>\n",
       "      <td>NaN</td>\n",
       "      <td>20170223</td>\n",
       "      <td>Unavailable</td>\n",
       "      <td>0</td>\n",
       "      <td>107206</td>\n",
       "      <td>7542464</td>\n",
       "    </tr>\n",
       "    <tr>\n",
       "      <th>1</th>\n",
       "      <td>8.38</td>\n",
       "      <td>20190701</td>\n",
       "      <td>20190701.0</td>\n",
       "      <td>16.49</td>\n",
       "      <td>NaN</td>\n",
       "      <td>676.13</td>\n",
       "      <td>0.0</td>\n",
       "      <td>1.0</td>\n",
       "      <td>NaN</td>\n",
       "      <td>1</td>\n",
       "      <td>1</td>\n",
       "      <td>676.13</td>\n",
       "      <td>20180201</td>\n",
       "      <td>Completed</td>\n",
       "      <td>0</td>\n",
       "      <td>123034</td>\n",
       "      <td>6044316</td>\n",
       "    </tr>\n",
       "    <tr>\n",
       "      <th>2</th>\n",
       "      <td>16.45</td>\n",
       "      <td>20190830</td>\n",
       "      <td>20190830.0</td>\n",
       "      <td>14.39</td>\n",
       "      <td>NaN</td>\n",
       "      <td>836.63</td>\n",
       "      <td>0.0</td>\n",
       "      <td>1.0</td>\n",
       "      <td>NaN</td>\n",
       "      <td>2</td>\n",
       "      <td>1</td>\n",
       "      <td>836.63</td>\n",
       "      <td>20180905</td>\n",
       "      <td>Completed</td>\n",
       "      <td>0</td>\n",
       "      <td>201136</td>\n",
       "      <td>1959290</td>\n",
       "    </tr>\n",
       "    <tr>\n",
       "      <th>3</th>\n",
       "      <td>NaN</td>\n",
       "      <td>20190709</td>\n",
       "      <td>NaN</td>\n",
       "      <td>NaN</td>\n",
       "      <td>NaN</td>\n",
       "      <td>NaN</td>\n",
       "      <td>NaN</td>\n",
       "      <td>1.0</td>\n",
       "      <td>lpp42</td>\n",
       "      <td>1</td>\n",
       "      <td>12</td>\n",
       "      <td>NaN</td>\n",
       "      <td>20180113</td>\n",
       "      <td>Unavailable</td>\n",
       "      <td>0</td>\n",
       "      <td>403293</td>\n",
       "      <td>1250879</td>\n",
       "    </tr>\n",
       "    <tr>\n",
       "      <th>4</th>\n",
       "      <td>NaN</td>\n",
       "      <td>20190718</td>\n",
       "      <td>NaN</td>\n",
       "      <td>NaN</td>\n",
       "      <td>NaN</td>\n",
       "      <td>NaN</td>\n",
       "      <td>NaN</td>\n",
       "      <td>1.0</td>\n",
       "      <td>abac</td>\n",
       "      <td>4</td>\n",
       "      <td>12</td>\n",
       "      <td>NaN</td>\n",
       "      <td>20190702</td>\n",
       "      <td>Unavailable</td>\n",
       "      <td>0</td>\n",
       "      <td>448530</td>\n",
       "      <td>884375</td>\n",
       "    </tr>\n",
       "  </tbody>\n",
       "</table>\n",
       "</div>"
      ],
      "text/plain": [
       "   delay  created_date  pickup_date  distance  driver_rating    fare  \\\n",
       "0    NaN      20190809          NaN       NaN            NaN     NaN   \n",
       "1   8.38      20190701   20190701.0     16.49            NaN  676.13   \n",
       "2  16.45      20190830   20190830.0     14.39            NaN  836.63   \n",
       "3    NaN      20190709          NaN       NaN            NaN     NaN   \n",
       "4    NaN      20190718          NaN       NaN            NaN     NaN   \n",
       "\n",
       "   discount  payment_method promocode  taximodelid  travel_status  trip_fare  \\\n",
       "0       NaN             1.0       NaN            1             12        NaN   \n",
       "1       0.0             1.0       NaN            1              1     676.13   \n",
       "2       0.0             1.0       NaN            2              1     836.63   \n",
       "3       NaN             1.0     lpp42            1             12        NaN   \n",
       "4       NaN             1.0      abac            4             12        NaN   \n",
       "\n",
       "   profile_created status_description  pre_booked  passengerid   tripid  \n",
       "0         20170223        Unavailable           0       107206  7542464  \n",
       "1         20180201          Completed           0       123034  6044316  \n",
       "2         20180905          Completed           0       201136  1959290  \n",
       "3         20180113        Unavailable           0       403293  1250879  \n",
       "4         20190702        Unavailable           0       448530   884375  "
      ]
     },
     "execution_count": 17,
     "metadata": {},
     "output_type": "execute_result"
    }
   ],
   "source": [
    "raw_data.head()"
   ]
  },
  {
   "cell_type": "markdown",
   "metadata": {},
   "source": [
    "#### Date Columns preprocesing"
   ]
  },
  {
   "cell_type": "code",
   "execution_count": 18,
   "metadata": {},
   "outputs": [],
   "source": [
    "raw_data['created_date'] = pd.to_datetime(raw_data['created_date'].astype(str))\n",
    "raw_data['month'] = raw_data['created_date'].dt.month\n",
    "raw_data['month'] = raw_data['month'].astype(str)"
   ]
  },
  {
   "cell_type": "code",
   "execution_count": 19,
   "metadata": {},
   "outputs": [],
   "source": [
    "raw_data['profile_created'] = pd.to_datetime(raw_data['profile_created'].astype(str))"
   ]
  },
  {
   "cell_type": "markdown",
   "metadata": {},
   "source": [
    "#### Seperating Data by months for labeling profiles"
   ]
  },
  {
   "cell_type": "code",
   "execution_count": 20,
   "metadata": {},
   "outputs": [],
   "source": [
    "customer_data = raw_data[~(raw_data['month']=='8')] # June and July Data for generate customer profile(Behavioral)"
   ]
  },
  {
   "cell_type": "code",
   "execution_count": 21,
   "metadata": {},
   "outputs": [],
   "source": [
    "label_refference_data = raw_data[(raw_data['month']=='8')] # August Data for labeling customer profiles"
   ]
  },
  {
   "cell_type": "code",
   "execution_count": 22,
   "metadata": {},
   "outputs": [
    {
     "name": "stdout",
     "output_type": "stream",
     "text": [
      "(9004901, 18)\n",
      "(6327474, 18)\n",
      "(2677427, 18)\n",
      "['8' '7' '6']\n",
      "['7' '6']\n",
      "['8']\n"
     ]
    }
   ],
   "source": [
    "print(raw_data.shape)\n",
    "print(customer_data.shape)\n",
    "print(label_refference_data.shape)\n",
    "print(raw_data['month'].unique())\n",
    "print(customer_data['month'].unique())\n",
    "print(label_refference_data['month'].unique())"
   ]
  },
  {
   "cell_type": "code",
   "execution_count": 24,
   "metadata": {},
   "outputs": [
    {
     "data": {
      "text/plain": [
       "set()"
      ]
     },
     "execution_count": 24,
     "metadata": {},
     "output_type": "execute_result"
    }
   ],
   "source": [
    "set(customer_data['tripid'].unique()).intersection(set(label_refference_data['tripid'].unique()))\n"
   ]
  },
  {
   "cell_type": "code",
   "execution_count": 25,
   "metadata": {},
   "outputs": [
    {
     "data": {
      "text/plain": [
       "Index(['delay', 'created_date', 'pickup_date', 'distance', 'driver_rating',\n",
       "       'fare', 'discount', 'payment_method', 'promocode', 'taximodelid',\n",
       "       'travel_status', 'trip_fare', 'profile_created', 'status_description',\n",
       "       'pre_booked', 'passengerid', 'tripid', 'month'],\n",
       "      dtype='object')"
      ]
     },
     "execution_count": 25,
     "metadata": {},
     "output_type": "execute_result"
    }
   ],
   "source": [
    "customer_data.columns"
   ]
  },
  {
   "cell_type": "markdown",
   "metadata": {},
   "source": [
    "### Customer event data set Preposessing"
   ]
  },
  {
   "cell_type": "markdown",
   "metadata": {},
   "source": [
    "#### Remove NAN rows by 'Fare' column"
   ]
  },
  {
   "cell_type": "code",
   "execution_count": 26,
   "metadata": {},
   "outputs": [],
   "source": [
    "customer_data_filtered = customer_data.dropna(axis=0, subset=['fare'])"
   ]
  },
  {
   "cell_type": "code",
   "execution_count": 27,
   "metadata": {},
   "outputs": [
    {
     "name": "stdout",
     "output_type": "stream",
     "text": [
      "(6327474, 18)\n",
      "(2694077, 18)\n",
      "428961\n",
      "384591\n"
     ]
    }
   ],
   "source": [
    "print(customer_data.shape)\n",
    "print(customer_data_filtered.shape)\n",
    "print(len(customer_data['passengerid'].unique()))\n",
    "print(len(customer_data_filtered['passengerid'].unique()))"
   ]
  },
  {
   "cell_type": "code",
   "execution_count": 29,
   "metadata": {},
   "outputs": [
    {
     "data": {
      "text/plain": [
       "delay                      10\n",
       "created_date                0\n",
       "pickup_date                10\n",
       "distance                    0\n",
       "driver_rating         2694077\n",
       "fare                        0\n",
       "discount                    0\n",
       "payment_method              0\n",
       "promocode             2081073\n",
       "taximodelid                 0\n",
       "travel_status               0\n",
       "trip_fare                   0\n",
       "profile_created             0\n",
       "status_description          0\n",
       "pre_booked                  0\n",
       "passengerid                 0\n",
       "tripid                      0\n",
       "month                       0\n",
       "dtype: int64"
      ]
     },
     "execution_count": 29,
     "metadata": {},
     "output_type": "execute_result"
    }
   ],
   "source": [
    "customer_data_filtered.isnull().sum(axis = 0)"
   ]
  },
  {
   "cell_type": "markdown",
   "metadata": {},
   "source": [
    "#### Fill null value of 'delay' by mean"
   ]
  },
  {
   "cell_type": "code",
   "execution_count": 31,
   "metadata": {
    "scrolled": true
   },
   "outputs": [
    {
     "name": "stderr",
     "output_type": "stream",
     "text": [
      "C:\\Users\\USER\\Anaconda3\\lib\\site-packages\\ipykernel_launcher.py:1: SettingWithCopyWarning: \n",
      "A value is trying to be set on a copy of a slice from a DataFrame.\n",
      "Try using .loc[row_indexer,col_indexer] = value instead\n",
      "\n",
      "See the caveats in the documentation: http://pandas.pydata.org/pandas-docs/stable/indexing.html#indexing-view-versus-copy\n",
      "  \"\"\"Entry point for launching an IPython kernel.\n"
     ]
    }
   ],
   "source": [
    "customer_data_filtered['delay'] = customer_data_filtered['delay'].fillna(customer_data_filtered['delay'].mean())"
   ]
  },
  {
   "cell_type": "markdown",
   "metadata": {},
   "source": [
    "#### Generate customer features  by grouping 'passengerid'  by aggrigating other selected columns"
   ]
  },
  {
   "cell_type": "code",
   "execution_count": 35,
   "metadata": {},
   "outputs": [],
   "source": [
    "derive_features_dict = {'passengerid' : {'trip_total':'count'},\n",
    " 'delay' : {'delay_total':'sum','delay_avg':'mean'},\n",
    " 'distance' : {'distance_total':'sum','distance_avg':'mean'},\n",
    " 'fare':{'fare_total':'sum','fare_avg':'mean'},\n",
    " 'discount':{'discount_total':'sum','discount_avg':'mean'},\n",
    " 'taximodelid':{'preffered_taximodelid':lambda x: x.mode()[0]},\n",
    " 'trip_fare':{'trip_fare_total':'sum','trip_fare_avg':'mean'},\n",
    " 'profile_created':{'profile_created':lambda x: x.mode()[0]},\n",
    " 'payment_method':{'preffered_payment_method':lambda x: x.mode()[0]}                      \n",
    "}"
   ]
  },
  {
   "cell_type": "code",
   "execution_count": 36,
   "metadata": {},
   "outputs": [
    {
     "name": "stderr",
     "output_type": "stream",
     "text": [
      "C:\\Users\\USER\\Anaconda3\\lib\\site-packages\\pandas\\core\\groupby\\generic.py:1315: FutureWarning: using a dict with renaming is deprecated and will be removed in a future version\n",
      "  return super(DataFrameGroupBy, self).aggregate(arg, *args, **kwargs)\n"
     ]
    }
   ],
   "source": [
    "customer_data_agg = customer_data_filtered.groupby('passengerid').agg(derive_features_dict)\n",
    "customer_data_agg = pd.DataFrame(customer_data_agg).reset_index(col_level=1)    \n",
    "customer_data_agg.columns = customer_data_agg.columns.get_level_values(1)"
   ]
  },
  {
   "cell_type": "markdown",
   "metadata": {},
   "source": [
    "#### calculate customer time period (days) engaged  from profile created up to 2019/07/31 "
   ]
  },
  {
   "cell_type": "code",
   "execution_count": 37,
   "metadata": {},
   "outputs": [],
   "source": [
    "customer_data_agg['profile_engaged_period'] = (pd.to_datetime('20190731') - customer_data_agg['profile_created']).dt.days"
   ]
  },
  {
   "cell_type": "code",
   "execution_count": 38,
   "metadata": {
    "scrolled": true
   },
   "outputs": [
    {
     "data": {
      "text/html": [
       "<div>\n",
       "<style scoped>\n",
       "    .dataframe tbody tr th:only-of-type {\n",
       "        vertical-align: middle;\n",
       "    }\n",
       "\n",
       "    .dataframe tbody tr th {\n",
       "        vertical-align: top;\n",
       "    }\n",
       "\n",
       "    .dataframe thead th {\n",
       "        text-align: right;\n",
       "    }\n",
       "</style>\n",
       "<table border=\"1\" class=\"dataframe\">\n",
       "  <thead>\n",
       "    <tr style=\"text-align: right;\">\n",
       "      <th></th>\n",
       "      <th>passengerid</th>\n",
       "      <th>trip_total</th>\n",
       "      <th>delay_total</th>\n",
       "      <th>delay_avg</th>\n",
       "      <th>distance_total</th>\n",
       "      <th>distance_avg</th>\n",
       "      <th>fare_total</th>\n",
       "      <th>fare_avg</th>\n",
       "      <th>discount_total</th>\n",
       "      <th>discount_avg</th>\n",
       "      <th>preffered_taximodelid</th>\n",
       "      <th>trip_fare_total</th>\n",
       "      <th>trip_fare_avg</th>\n",
       "      <th>profile_created</th>\n",
       "      <th>preffered_payment_method</th>\n",
       "      <th>profile_engaged_period</th>\n",
       "    </tr>\n",
       "  </thead>\n",
       "  <tbody>\n",
       "    <tr>\n",
       "      <th>0</th>\n",
       "      <td>2</td>\n",
       "      <td>3</td>\n",
       "      <td>14.72</td>\n",
       "      <td>4.906667</td>\n",
       "      <td>16.41</td>\n",
       "      <td>5.470000</td>\n",
       "      <td>661.35</td>\n",
       "      <td>220.450000</td>\n",
       "      <td>0.0</td>\n",
       "      <td>0.0</td>\n",
       "      <td>1</td>\n",
       "      <td>661.35</td>\n",
       "      <td>220.450000</td>\n",
       "      <td>2018-01-02</td>\n",
       "      <td>1.0</td>\n",
       "      <td>575</td>\n",
       "    </tr>\n",
       "    <tr>\n",
       "      <th>1</th>\n",
       "      <td>4</td>\n",
       "      <td>2</td>\n",
       "      <td>17.63</td>\n",
       "      <td>8.815000</td>\n",
       "      <td>12.26</td>\n",
       "      <td>6.130000</td>\n",
       "      <td>506.36</td>\n",
       "      <td>253.180000</td>\n",
       "      <td>200.0</td>\n",
       "      <td>100.0</td>\n",
       "      <td>1</td>\n",
       "      <td>306.36</td>\n",
       "      <td>153.180000</td>\n",
       "      <td>2019-06-08</td>\n",
       "      <td>1.0</td>\n",
       "      <td>53</td>\n",
       "    </tr>\n",
       "    <tr>\n",
       "      <th>2</th>\n",
       "      <td>5</td>\n",
       "      <td>1</td>\n",
       "      <td>6.45</td>\n",
       "      <td>6.450000</td>\n",
       "      <td>12.44</td>\n",
       "      <td>12.440000</td>\n",
       "      <td>471.85</td>\n",
       "      <td>471.850000</td>\n",
       "      <td>0.0</td>\n",
       "      <td>0.0</td>\n",
       "      <td>1</td>\n",
       "      <td>471.85</td>\n",
       "      <td>471.850000</td>\n",
       "      <td>2019-01-09</td>\n",
       "      <td>1.0</td>\n",
       "      <td>203</td>\n",
       "    </tr>\n",
       "    <tr>\n",
       "      <th>3</th>\n",
       "      <td>7</td>\n",
       "      <td>52</td>\n",
       "      <td>486.82</td>\n",
       "      <td>9.361923</td>\n",
       "      <td>280.20</td>\n",
       "      <td>5.388462</td>\n",
       "      <td>12725.76</td>\n",
       "      <td>244.726154</td>\n",
       "      <td>0.0</td>\n",
       "      <td>0.0</td>\n",
       "      <td>1</td>\n",
       "      <td>12725.76</td>\n",
       "      <td>244.726154</td>\n",
       "      <td>2017-09-09</td>\n",
       "      <td>1.0</td>\n",
       "      <td>690</td>\n",
       "    </tr>\n",
       "    <tr>\n",
       "      <th>4</th>\n",
       "      <td>9</td>\n",
       "      <td>2</td>\n",
       "      <td>8.45</td>\n",
       "      <td>4.225000</td>\n",
       "      <td>6.80</td>\n",
       "      <td>3.400000</td>\n",
       "      <td>293.84</td>\n",
       "      <td>146.920000</td>\n",
       "      <td>0.0</td>\n",
       "      <td>0.0</td>\n",
       "      <td>1</td>\n",
       "      <td>293.84</td>\n",
       "      <td>146.920000</td>\n",
       "      <td>2017-12-19</td>\n",
       "      <td>1.0</td>\n",
       "      <td>589</td>\n",
       "    </tr>\n",
       "  </tbody>\n",
       "</table>\n",
       "</div>"
      ],
      "text/plain": [
       "   passengerid  trip_total  delay_total  delay_avg  distance_total  \\\n",
       "0            2           3        14.72   4.906667           16.41   \n",
       "1            4           2        17.63   8.815000           12.26   \n",
       "2            5           1         6.45   6.450000           12.44   \n",
       "3            7          52       486.82   9.361923          280.20   \n",
       "4            9           2         8.45   4.225000            6.80   \n",
       "\n",
       "   distance_avg  fare_total    fare_avg  discount_total  discount_avg  \\\n",
       "0      5.470000      661.35  220.450000             0.0           0.0   \n",
       "1      6.130000      506.36  253.180000           200.0         100.0   \n",
       "2     12.440000      471.85  471.850000             0.0           0.0   \n",
       "3      5.388462    12725.76  244.726154             0.0           0.0   \n",
       "4      3.400000      293.84  146.920000             0.0           0.0   \n",
       "\n",
       "   preffered_taximodelid  trip_fare_total  trip_fare_avg profile_created  \\\n",
       "0                      1           661.35     220.450000      2018-01-02   \n",
       "1                      1           306.36     153.180000      2019-06-08   \n",
       "2                      1           471.85     471.850000      2019-01-09   \n",
       "3                      1         12725.76     244.726154      2017-09-09   \n",
       "4                      1           293.84     146.920000      2017-12-19   \n",
       "\n",
       "   preffered_payment_method  profile_engaged_period  \n",
       "0                       1.0                     575  \n",
       "1                       1.0                      53  \n",
       "2                       1.0                     203  \n",
       "3                       1.0                     690  \n",
       "4                       1.0                     589  "
      ]
     },
     "execution_count": 38,
     "metadata": {},
     "output_type": "execute_result"
    }
   ],
   "source": [
    "customer_data_agg.head()"
   ]
  },
  {
   "cell_type": "markdown",
   "metadata": {},
   "source": [
    "#### preprocess 'pre_book' feature - Assign 3 categories and append to main dataframe"
   ]
  },
  {
   "cell_type": "code",
   "execution_count": 39,
   "metadata": {},
   "outputs": [],
   "source": [
    "pre_booked = customer_data_filtered[['passengerid','pre_booked']]\n",
    "pre_booked_unique = pre_booked.drop_duplicates(['passengerid','pre_booked'],keep= 'last')"
   ]
  },
  {
   "cell_type": "code",
   "execution_count": 40,
   "metadata": {},
   "outputs": [],
   "source": [
    "pre_booked_unique= pre_booked_unique.sort_values(by=['passengerid','pre_booked'])\n",
    "pre_booked_unique['pre_booked'] = pre_booked_unique['pre_booked'].astype(str)\n",
    "pre_booked_joined = pre_booked_unique.groupby('passengerid')['pre_booked'].apply(','.join)\n",
    "pre_booked_joined = pd.DataFrame(pre_booked_joined).reset_index(col_level=1)  \n"
   ]
  },
  {
   "cell_type": "code",
   "execution_count": 41,
   "metadata": {},
   "outputs": [
    {
     "data": {
      "text/plain": [
       "array(['0', '0,1', '1'], dtype=object)"
      ]
     },
     "execution_count": 41,
     "metadata": {},
     "output_type": "execute_result"
    }
   ],
   "source": [
    "pre_booked_joined['pre_booked'].unique()"
   ]
  },
  {
   "cell_type": "code",
   "execution_count": 45,
   "metadata": {},
   "outputs": [],
   "source": [
    "merged_df = pd.merge(customer_data_agg, pre_booked_joined, on='passengerid')"
   ]
  },
  {
   "cell_type": "code",
   "execution_count": 46,
   "metadata": {},
   "outputs": [
    {
     "data": {
      "text/plain": [
       "(384591, 17)"
      ]
     },
     "execution_count": 46,
     "metadata": {},
     "output_type": "execute_result"
    }
   ],
   "source": [
    "merged_df.shape"
   ]
  },
  {
   "cell_type": "code",
   "execution_count": 47,
   "metadata": {},
   "outputs": [
    {
     "data": {
      "text/plain": [
       "Index(['passengerid', 'trip_total', 'delay_total', 'delay_avg',\n",
       "       'distance_total', 'distance_avg', 'fare_total', 'fare_avg',\n",
       "       'discount_total', 'discount_avg', 'preffered_taximodelid',\n",
       "       'trip_fare_total', 'trip_fare_avg', 'profile_created',\n",
       "       'preffered_payment_method', 'profile_engaged_period', 'pre_booked'],\n",
       "      dtype='object')"
      ]
     },
     "execution_count": 47,
     "metadata": {},
     "output_type": "execute_result"
    }
   ],
   "source": [
    "merged_df.columns"
   ]
  },
  {
   "cell_type": "code",
   "execution_count": 48,
   "metadata": {
    "scrolled": true
   },
   "outputs": [
    {
     "data": {
      "text/html": [
       "<div>\n",
       "<style scoped>\n",
       "    .dataframe tbody tr th:only-of-type {\n",
       "        vertical-align: middle;\n",
       "    }\n",
       "\n",
       "    .dataframe tbody tr th {\n",
       "        vertical-align: top;\n",
       "    }\n",
       "\n",
       "    .dataframe thead th {\n",
       "        text-align: right;\n",
       "    }\n",
       "</style>\n",
       "<table border=\"1\" class=\"dataframe\">\n",
       "  <thead>\n",
       "    <tr style=\"text-align: right;\">\n",
       "      <th></th>\n",
       "      <th>passengerid</th>\n",
       "      <th>trip_total</th>\n",
       "      <th>delay_total</th>\n",
       "      <th>delay_avg</th>\n",
       "      <th>distance_total</th>\n",
       "      <th>distance_avg</th>\n",
       "      <th>fare_total</th>\n",
       "      <th>fare_avg</th>\n",
       "      <th>discount_total</th>\n",
       "      <th>discount_avg</th>\n",
       "      <th>preffered_taximodelid</th>\n",
       "      <th>trip_fare_total</th>\n",
       "      <th>trip_fare_avg</th>\n",
       "      <th>profile_created</th>\n",
       "      <th>preffered_payment_method</th>\n",
       "      <th>profile_engaged_period</th>\n",
       "      <th>pre_booked</th>\n",
       "    </tr>\n",
       "  </thead>\n",
       "  <tbody>\n",
       "    <tr>\n",
       "      <th>0</th>\n",
       "      <td>2</td>\n",
       "      <td>3</td>\n",
       "      <td>14.72</td>\n",
       "      <td>4.906667</td>\n",
       "      <td>16.41</td>\n",
       "      <td>5.470000</td>\n",
       "      <td>661.35</td>\n",
       "      <td>220.450000</td>\n",
       "      <td>0.0</td>\n",
       "      <td>0.0</td>\n",
       "      <td>1</td>\n",
       "      <td>661.35</td>\n",
       "      <td>220.450000</td>\n",
       "      <td>2018-01-02</td>\n",
       "      <td>1.0</td>\n",
       "      <td>575</td>\n",
       "      <td>0</td>\n",
       "    </tr>\n",
       "    <tr>\n",
       "      <th>1</th>\n",
       "      <td>4</td>\n",
       "      <td>2</td>\n",
       "      <td>17.63</td>\n",
       "      <td>8.815000</td>\n",
       "      <td>12.26</td>\n",
       "      <td>6.130000</td>\n",
       "      <td>506.36</td>\n",
       "      <td>253.180000</td>\n",
       "      <td>200.0</td>\n",
       "      <td>100.0</td>\n",
       "      <td>1</td>\n",
       "      <td>306.36</td>\n",
       "      <td>153.180000</td>\n",
       "      <td>2019-06-08</td>\n",
       "      <td>1.0</td>\n",
       "      <td>53</td>\n",
       "      <td>0</td>\n",
       "    </tr>\n",
       "    <tr>\n",
       "      <th>2</th>\n",
       "      <td>5</td>\n",
       "      <td>1</td>\n",
       "      <td>6.45</td>\n",
       "      <td>6.450000</td>\n",
       "      <td>12.44</td>\n",
       "      <td>12.440000</td>\n",
       "      <td>471.85</td>\n",
       "      <td>471.850000</td>\n",
       "      <td>0.0</td>\n",
       "      <td>0.0</td>\n",
       "      <td>1</td>\n",
       "      <td>471.85</td>\n",
       "      <td>471.850000</td>\n",
       "      <td>2019-01-09</td>\n",
       "      <td>1.0</td>\n",
       "      <td>203</td>\n",
       "      <td>0</td>\n",
       "    </tr>\n",
       "    <tr>\n",
       "      <th>3</th>\n",
       "      <td>7</td>\n",
       "      <td>52</td>\n",
       "      <td>486.82</td>\n",
       "      <td>9.361923</td>\n",
       "      <td>280.20</td>\n",
       "      <td>5.388462</td>\n",
       "      <td>12725.76</td>\n",
       "      <td>244.726154</td>\n",
       "      <td>0.0</td>\n",
       "      <td>0.0</td>\n",
       "      <td>1</td>\n",
       "      <td>12725.76</td>\n",
       "      <td>244.726154</td>\n",
       "      <td>2017-09-09</td>\n",
       "      <td>1.0</td>\n",
       "      <td>690</td>\n",
       "      <td>0</td>\n",
       "    </tr>\n",
       "    <tr>\n",
       "      <th>4</th>\n",
       "      <td>9</td>\n",
       "      <td>2</td>\n",
       "      <td>8.45</td>\n",
       "      <td>4.225000</td>\n",
       "      <td>6.80</td>\n",
       "      <td>3.400000</td>\n",
       "      <td>293.84</td>\n",
       "      <td>146.920000</td>\n",
       "      <td>0.0</td>\n",
       "      <td>0.0</td>\n",
       "      <td>1</td>\n",
       "      <td>293.84</td>\n",
       "      <td>146.920000</td>\n",
       "      <td>2017-12-19</td>\n",
       "      <td>1.0</td>\n",
       "      <td>589</td>\n",
       "      <td>0</td>\n",
       "    </tr>\n",
       "  </tbody>\n",
       "</table>\n",
       "</div>"
      ],
      "text/plain": [
       "   passengerid  trip_total  delay_total  delay_avg  distance_total  \\\n",
       "0            2           3        14.72   4.906667           16.41   \n",
       "1            4           2        17.63   8.815000           12.26   \n",
       "2            5           1         6.45   6.450000           12.44   \n",
       "3            7          52       486.82   9.361923          280.20   \n",
       "4            9           2         8.45   4.225000            6.80   \n",
       "\n",
       "   distance_avg  fare_total    fare_avg  discount_total  discount_avg  \\\n",
       "0      5.470000      661.35  220.450000             0.0           0.0   \n",
       "1      6.130000      506.36  253.180000           200.0         100.0   \n",
       "2     12.440000      471.85  471.850000             0.0           0.0   \n",
       "3      5.388462    12725.76  244.726154             0.0           0.0   \n",
       "4      3.400000      293.84  146.920000             0.0           0.0   \n",
       "\n",
       "   preffered_taximodelid  trip_fare_total  trip_fare_avg profile_created  \\\n",
       "0                      1           661.35     220.450000      2018-01-02   \n",
       "1                      1           306.36     153.180000      2019-06-08   \n",
       "2                      1           471.85     471.850000      2019-01-09   \n",
       "3                      1         12725.76     244.726154      2017-09-09   \n",
       "4                      1           293.84     146.920000      2017-12-19   \n",
       "\n",
       "   preffered_payment_method  profile_engaged_period pre_booked  \n",
       "0                       1.0                     575          0  \n",
       "1                       1.0                      53          0  \n",
       "2                       1.0                     203          0  \n",
       "3                       1.0                     690          0  \n",
       "4                       1.0                     589          0  "
      ]
     },
     "execution_count": 48,
     "metadata": {},
     "output_type": "execute_result"
    }
   ],
   "source": [
    "merged_df.head()"
   ]
  },
  {
   "cell_type": "markdown",
   "metadata": {},
   "source": [
    "### labeling customer data by using August data set"
   ]
  },
  {
   "cell_type": "code",
   "execution_count": 50,
   "metadata": {},
   "outputs": [],
   "source": [
    "label_unque_df = label_refference_data[['passengerid']].drop_duplicates(['passengerid'],keep= 'last').reset_index(drop = True)"
   ]
  },
  {
   "cell_type": "code",
   "execution_count": 52,
   "metadata": {},
   "outputs": [],
   "source": [
    "label_unque_df['churn'] = 'NO'"
   ]
  },
  {
   "cell_type": "code",
   "execution_count": 53,
   "metadata": {},
   "outputs": [],
   "source": [
    "customer_prediction_preprocessed_data = merged_df.merge(label_unque_df, how = 'left', on = 'passengerid')"
   ]
  },
  {
   "cell_type": "code",
   "execution_count": 54,
   "metadata": {},
   "outputs": [],
   "source": [
    "customer_prediction_preprocessed_data['churn'] = customer_prediction_preprocessed_data['churn'].fillna('YES')"
   ]
  },
  {
   "cell_type": "code",
   "execution_count": 55,
   "metadata": {},
   "outputs": [
    {
     "data": {
      "text/plain": [
       "NO     234390\n",
       "YES    150201\n",
       "Name: churn, dtype: int64"
      ]
     },
     "execution_count": 55,
     "metadata": {},
     "output_type": "execute_result"
    }
   ],
   "source": [
    "customer_prediction_preprocessed_data['churn'].value_counts()"
   ]
  },
  {
   "cell_type": "code",
   "execution_count": 56,
   "metadata": {},
   "outputs": [
    {
     "data": {
      "text/plain": [
       "234390"
      ]
     },
     "execution_count": 56,
     "metadata": {},
     "output_type": "execute_result"
    }
   ],
   "source": [
    "len(set(merged_df['passengerid'].unique()).intersection(set(label_unque['passengerid'].unique())))"
   ]
  },
  {
   "cell_type": "code",
   "execution_count": 57,
   "metadata": {},
   "outputs": [],
   "source": [
    "customer_prediction_preprocessed_data.to_csv('data/customer_preprocessed_data.csv', index=False)"
   ]
  },
  {
   "cell_type": "code",
   "execution_count": 58,
   "metadata": {},
   "outputs": [
    {
     "data": {
      "text/plain": [
       "Index(['passengerid', 'trip_total', 'delay_total', 'delay_avg',\n",
       "       'distance_total', 'distance_avg', 'fare_total', 'fare_avg',\n",
       "       'discount_total', 'discount_avg', 'preffered_taximodelid',\n",
       "       'trip_fare_total', 'trip_fare_avg', 'profile_created',\n",
       "       'preffered_payment_method', 'profile_engaged_period', 'pre_booked',\n",
       "       'churn'],\n",
       "      dtype='object')"
      ]
     },
     "execution_count": 58,
     "metadata": {},
     "output_type": "execute_result"
    }
   ],
   "source": [
    "customer_prediction_preprocessed_data.columns"
   ]
  }
 ],
 "metadata": {
  "kernelspec": {
   "display_name": "Python 3",
   "language": "python",
   "name": "python3"
  },
  "language_info": {
   "codemirror_mode": {
    "name": "ipython",
    "version": 3
   },
   "file_extension": ".py",
   "mimetype": "text/x-python",
   "name": "python",
   "nbconvert_exporter": "python",
   "pygments_lexer": "ipython3",
   "version": "3.7.3"
  }
 },
 "nbformat": 4,
 "nbformat_minor": 2
}
